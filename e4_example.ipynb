{
 "cells": [
  {
   "cell_type": "markdown",
   "metadata": {},
   "source": [
    "# BAT.jl Tutorial - Poisson Counting Experiment"
   ]
  },
  {
   "cell_type": "markdown",
   "metadata": {},
   "source": [
    "Note: This tutorial is written in the style of a cloze text. Parts that have to be filled out by you are marked `#=FILLME=#`.\n",
    "\n",
    "The [the tutorial section](https://bat.github.io/BAT.jl/stable/tutorial/) of the BAT.jl documentation should prove helpful."
   ]
  },
  {
   "cell_type": "code",
   "execution_count": null,
   "metadata": {},
   "outputs": [],
   "source": [
    "using BAT\n",
    "using Distributions \n",
    "using IntervalSets\n",
    "using ValueShapes\n",
    "using Plots\n",
    "using ArraysOfArrays\n",
    "using StatsBase \n",
    "using LinearAlgebra"
   ]
  },
  {
   "cell_type": "markdown",
   "metadata": {},
   "source": [
    "## Situation\n",
    "We want to determine the properties of a radioactive singal source in the presence of background from natural sources of radioactivity.\n",
    "We assume to have one signal source $S$ and only one source of background $B$."
   ]
  },
  {
   "cell_type": "markdown",
   "metadata": {},
   "source": [
    "## 1. Background only measurement\n",
    "We start by using our detector without the signal source installed.\n",
    "This measurement yields a number of $k_B=10$ counts.  \n",
    "Using this measurement we want to gain information about the event rate of the natural radioactive background.\n",
    "\n",
    "### Task: \n",
    "Perform a Bayesian analysis to estimate the event rate of the natural background $\\lambda_b$ using a Poisson model. \n",
    "\n",
    "Start by defining the log-likelihood function, using the function `logpdf()` and type `Poisson` provided by the package [Distributions.jl](https://juliastats.github.io/Distributions.jl/latest/univariate/):"
   ]
  },
  {
   "cell_type": "code",
   "execution_count": null,
   "metadata": {},
   "outputs": [],
   "source": [
    "# Number of observed background events\n",
    "kb = 10\n",
    "\n",
    "likelihood_B = let k = kb\n",
    "    params -> begin\n",
    "        return logpdf(Poisson(params.λb), k) # poisson log-likelihood\n",
    "    end\n",
    "end;"
   ]
  },
  {
   "cell_type": "markdown",
   "metadata": {},
   "source": [
    "Define the Prior with help of the `NamedTupleDist()` function. Use a flat prior between 0 and 30:"
   ]
  },
  {
   "cell_type": "code",
   "execution_count": null,
   "metadata": {},
   "outputs": [],
   "source": [
    "prior_B = NamedTupleDist(\n",
    "    λb = 0..30 \n",
    "    #!EX λb = #=FILLME=#\n",
    ")"
   ]
  },
  {
   "cell_type": "markdown",
   "metadata": {},
   "source": [
    "Then use the likelihood and the prior to define the `PosteriorDensity()`:"
   ]
  },
  {
   "cell_type": "code",
   "execution_count": null,
   "metadata": {},
   "outputs": [],
   "source": [
    "posterior_B = PosteriorDensity(likelihood_B, prior_B);\n",
    "#!EX posterior_B = PosteriorDensity(#=FILLME=#); "
   ]
  },
  {
   "cell_type": "markdown",
   "metadata": {},
   "source": [
    "Define the settings for the sampling. Choose `MetropolisHastings()` as the algorithm and set the number of chains and samples (4 chains with 10^5 samples each should be fine):"
   ]
  },
  {
   "cell_type": "code",
   "execution_count": null,
   "metadata": {},
   "outputs": [],
   "source": [
    "algorithm = MetropolisHastings()\n",
    "nchains = 8\n",
    "nsamples = 10^5;\n",
    "#!EX algorithm = #=FILLME=#)\n",
    "#!EX nchains = #=FILLME=#)\n",
    "#!EX nsamples = =#=FILLME=#)"
   ]
  },
  {
   "cell_type": "markdown",
   "metadata": {},
   "source": [
    "Use the function `bat_sample` to sample the posterior using `nchains` MCMC chains, generating `nsamples` per chain:"
   ]
  },
  {
   "cell_type": "code",
   "execution_count": null,
   "metadata": {},
   "outputs": [],
   "source": [
    "samples_B, stats_B = bat_sample(posterior_B, (nsamples, nchains), algorithm)\n",
    "stats_B"
   ]
  },
  {
   "cell_type": "markdown",
   "metadata": {},
   "source": [
    "Take a look at the resulting disribution for the background rate using `plot()`:"
   ]
  },
  {
   "cell_type": "code",
   "execution_count": null,
   "metadata": {
    "scrolled": false
   },
   "outputs": [],
   "source": [
    "plot(posterior_B, samples_B, :λb)\n",
    "plot!(prior_B, :λb, xlabel = \"\\$\\\\lambda_b\\$\", ylabel = \"\\$P(\\\\lambda_b)\\$\")"
   ]
  },
  {
   "cell_type": "markdown",
   "metadata": {},
   "source": [
    "Print some statistics of the samples:"
   ]
  },
  {
   "cell_type": "code",
   "execution_count": null,
   "metadata": {},
   "outputs": [],
   "source": [
    "println(\"Mode: $(stats_B.mode)\")\n",
    "println(\"Mean: $(stats_B.mean)\")\n",
    "println(\"Covariance: $(stats_B.cov)\")\n",
    "println(\"Standard Deviation: $(diag(sqrt(stats_B.cov[:, :])))\")"
   ]
  },
  {
   "cell_type": "markdown",
   "metadata": {},
   "source": [
    "## 2. Second background only measurement\n",
    "A second measurement of the natural background yields a number of $k_B=8$ counts.  \n",
    "Therefore, we want to update our estimation of the background rate using this new knowledge together with the pervious results.\n",
    "### Task:\n",
    "Perform an analysis of the new measurement similar to the first one.   \n",
    "Use the posterior distribution of the previous background measurement as a prior for this analysis.  \n",
    "This can be done by using a [StatsBase histogram](http://juliastats.github.io/StatsBase.jl/latest/empirical/#Histograms-1) of the samples: `fit(Histogram, flatview(samples)[i,:], weights, nbins)`.  \n",
    "The weights of the samples need to be used with the `FrequencyWeights()` function."
   ]
  },
  {
   "cell_type": "markdown",
   "metadata": {},
   "source": [
    "Define a `StatsBase` histogram containing the previous posterior distribution:"
   ]
  },
  {
   "cell_type": "code",
   "execution_count": null,
   "metadata": {},
   "outputs": [],
   "source": [
    "posterior_hist_B1 = fit(Histogram, flatview(samples_B.params)[1, :], FrequencyWeights(samples_B.weight), nbins = 400);"
   ]
  },
  {
   "cell_type": "markdown",
   "metadata": {},
   "source": [
    "The histogram can be used as a prior by converting it into a univariate distribution using `BAT.HistogramAsUvDistribution(histogram)`.  \n",
    "Apart from that, you can proceed similarly to the first task."
   ]
  },
  {
   "cell_type": "markdown",
   "metadata": {},
   "source": [
    "Define the log-likelihood function:"
   ]
  },
  {
   "cell_type": "code",
   "execution_count": null,
   "metadata": {},
   "outputs": [],
   "source": [
    "kb2 = 8\n",
    "\n",
    "likelihood_B2 = let k = kb2\n",
    "    params -> logpdf(Poisson(params.λb), k)\n",
    "    #!EX params -> #=FILLME=#\n",
    "end\n"
   ]
  },
  {
   "cell_type": "markdown",
   "metadata": {},
   "source": [
    "Define the prior (use the posterior of the previous task) and the posterior:"
   ]
  },
  {
   "cell_type": "code",
   "execution_count": null,
   "metadata": {},
   "outputs": [],
   "source": [
    "prior_B2 = NamedTupleDist(\n",
    "    λb = BAT.HistogramAsUvDistribution(posterior_hist_B1)\n",
    ")\n",
    "#!EX prior_B2 = NamedTupleDist( #=FILLME=# )\n",
    "\n",
    "posterior_B2 = PosteriorDensity(likelihood_B2, prior_B2);\n",
    "#!EX posterior_B2 = #=FILLME=#"
   ]
  },
  {
   "cell_type": "markdown",
   "metadata": {},
   "source": [
    "Generate samples:"
   ]
  },
  {
   "cell_type": "code",
   "execution_count": null,
   "metadata": {},
   "outputs": [],
   "source": [
    "samples_B2, stats_B2 = bat_sample(posterior_B2, (nsamples, nchains), algorithm)\n",
    "#!EX samples_B2, stats_B2 = #=FILLME=#\n",
    "stats_B2"
   ]
  },
  {
   "cell_type": "markdown",
   "metadata": {},
   "source": [
    "Use the  `plot(samples)` and `plot!(prior)` functions to visualize the posterior of the first analysis and the updated posterior together:"
   ]
  },
  {
   "cell_type": "code",
   "execution_count": null,
   "metadata": {},
   "outputs": [],
   "source": [
    "plot(posterior_B2, samples_B2, :λb)\n",
    "plot!(prior_B2, :λb, linewidth=1.5, xlabel = \"\\$\\\\lambda_b\\$\", ylabel = \"\\$P(\\\\lambda_b)\\$\")\n",
    "#!EX plot(posterior_B2, #=FILLME=#)\n",
    "#!EX plot!(prior_B2, #=FILLME=#)"
   ]
  },
  {
   "cell_type": "markdown",
   "metadata": {},
   "source": [
    "Print some statistics of the samples:"
   ]
  },
  {
   "cell_type": "code",
   "execution_count": null,
   "metadata": {},
   "outputs": [],
   "source": [
    "println(\"Mode: $(stats_B2.mode)\")\n",
    "println(\"Mean: $(stats_B2.mean)\")\n",
    "println(\"Covariance: $(stats_B2.cov)\")\n",
    "println(\"Standard Deviation: $(diag(sqrt(stats_B2.cov[:, :])))\")\n",
    "\n",
    "#!EX println(\"Mode: #=FILLME=#\")\n",
    "#!EX println(\"Mean: #=FILLME=#\")\n",
    "#!EX println(\"Covariance: #=FILLME=#\")\n",
    "#!EX println(\"Standard Deviation: #=FILLME=#\")"
   ]
  },
  {
   "cell_type": "markdown",
   "metadata": {},
   "source": [
    "## 3. Signal + Background\n",
    "Including the radioactive source to the experimental setup, we repeat the measurement and obtain $k_{S+B}=12$ counts.\n",
    "With this measurement and our prior knowledge about the background we are able to estimate the rate of the signal $\\lambda_s$.\n",
    "### Task\n",
    "Perform a third analysis using a poisson model with the combined singal + background rate.\n",
    "Use the known information about the background from the previous tasks as a prior and choose a suitable prior for the signal."
   ]
  },
  {
   "cell_type": "markdown",
   "metadata": {},
   "source": [
    "Define the likelihood for the signal + background model:"
   ]
  },
  {
   "cell_type": "code",
   "execution_count": null,
   "metadata": {},
   "outputs": [],
   "source": [
    "# Number of observed events\n",
    "kSB = 12\n",
    "\n",
    "likelihood_SB = let k = kSB\n",
    "    params -> begin\n",
    "        return logpdf(Poisson(params.λb + params.λs), k)  # poisson log-likelihood for b+s\n",
    "    end\n",
    "end;\n",
    "#!EX likelihood_SB = #=FILLME=#"
   ]
  },
  {
   "cell_type": "markdown",
   "metadata": {},
   "source": [
    "Define the prior for both the signal and backgound parameters.  \n",
    "Remember to use the knowledge from the previous tasks for the background. (hint: `BAT.HistogramAsUvDistribution()`)  \n"
   ]
  },
  {
   "cell_type": "code",
   "execution_count": null,
   "metadata": {},
   "outputs": [],
   "source": [
    "hist_B2 = fit(Histogram, flatview(samples_B2.params)[1, :], FrequencyWeights(samples_B2.weight), nbins = 400)\n",
    "#!EX hist_B2 = #=FILLME=#\n",
    "B2 = BAT.HistogramAsUvDistribution(hist_B2);\n",
    "#!EX B2 = #=FILLME=#\n",
    "\n",
    "prior_SB = NamedTupleDist(\n",
    "    λb = B2,\n",
    "    λs = 0..30\n",
    ")\n",
    "#!EX prior_SB = #=FILLME=#"
   ]
  },
  {
   "cell_type": "markdown",
   "metadata": {},
   "source": [
    "Also define the posterior:"
   ]
  },
  {
   "cell_type": "code",
   "execution_count": null,
   "metadata": {},
   "outputs": [],
   "source": [
    "posterior_SB = PosteriorDensity(likelihood_SB, prior_SB);\n",
    "#!EX posterior_SB = #=FILLME=#"
   ]
  },
  {
   "cell_type": "markdown",
   "metadata": {},
   "source": [
    "Generate samples for the signal + background model:"
   ]
  },
  {
   "cell_type": "code",
   "execution_count": null,
   "metadata": {},
   "outputs": [],
   "source": [
    "samples_SB, stats_SB = bat_sample(posterior_SB, (nsamples, nchains), algorithm)\n",
    "#!EX samples_SB = #=FILLME=#\n",
    "stats_SB"
   ]
  },
  {
   "cell_type": "markdown",
   "metadata": {},
   "source": [
    "To visualize an overview of the results for both prameters use `plot(samples)`.   \n",
    "(Hint: use the keyword `param_labels=[\"\\\\lambda_b\",\"\\\\lambda_s\"]` for correct axis labels)"
   ]
  },
  {
   "cell_type": "code",
   "execution_count": null,
   "metadata": {},
   "outputs": [],
   "source": [
    "plot(samples_SB, param_labels=[\"\\\\lambda_b\",\"\\\\lambda_s\"])\n",
    "#!EX plot(samples_SB, #=FILLME=#)"
   ]
  },
  {
   "cell_type": "markdown",
   "metadata": {},
   "source": [
    "Print some statistics of the samples:"
   ]
  },
  {
   "cell_type": "code",
   "execution_count": null,
   "metadata": {},
   "outputs": [],
   "source": [
    "println(\"Mode: $(stats_SB.mode)\")\n",
    "println(\"Mean: $(stats_SB.mean)\")\n",
    "println(\"Covariance: $(stats_SB.cov)\")\n",
    "println(\"Standard Deviation: $(diag(sqrt(stats_SB.cov[:, :])))\")\n",
    "\n",
    "#!EX println(\"Mode: #=FILLME=#\")\n",
    "#!EX println(\"Mean: #=FILLME=#\")\n",
    "#!EX println(\"Covariance: #=FILLME=#\")\n",
    "#!EX println(\"Standard Deviation: #=FILLME=#\"\")"
   ]
  },
  {
   "cell_type": "markdown",
   "metadata": {},
   "source": [
    "## 4. Error propagation"
   ]
  },
  {
   "cell_type": "markdown",
   "metadata": {},
   "source": [
    "Finally, we want to caluclate the cross section of the signal process.\n",
    "The rate of measured events in the detector of a couting experiment can be written as \n",
    "\n",
    "$\\frac{\\mathrm d N}{\\mathrm d t} = \\epsilon \\cdot σ \\cdot L$ ,\n",
    "\n",
    "with the Luminosity $L$ and the efficiency of the detector $\\epsilon$.   \n",
    "The signal cross section is therefore given as:\n",
    "### $σ_S = \\frac{λ_s}{\\epsilon \\cdot L}$  .\n",
    "For this experiment we assume a luminosity $L = 1.1$  (neglecting units).\n",
    "\n",
    "As a final result we want to obtain either a measurement or an upper limit on the signal cross section."
   ]
  },
  {
   "cell_type": "markdown",
   "metadata": {},
   "source": [
    "### Task 4 a) Known efficiency with gaussian uncertainty\n",
    "The detector efficiency has been measured to be $\\epsilon = 0.1 \\pm 0.02$, assuming the uncertainties to follow a normal distribution.\n",
    "\n",
    "Calculate the signal cross section $σ_S$ using the equation above.\n",
    "\n",
    "Use the [Distrtibutions.jl](https://juliastats.github.io/Distributions.jl/latest/univariate/) package and `rand()` to obain a sample for $\\epsilon$.  \n",
    "In order to obtain unweigthed samples of $\\lambda_S$ by resampling the posterior samples, the function `bat_sample(samples, nsamples).samples` can be used.\n",
    "\n",
    "The function `broadcast()` or the `.`operator (e.g. `a .+ b`) might be useful for element-wise operation when handeling the samples.  "
   ]
  },
  {
   "cell_type": "markdown",
   "metadata": {},
   "source": [
    "Define the luminosity and the efficiency:"
   ]
  },
  {
   "cell_type": "code",
   "execution_count": null,
   "metadata": {},
   "outputs": [],
   "source": [
    "L = 1.1\n",
    "ϵ = rand(Normal(0.1, 0.02), nsamples);\n",
    "#!EX L = #=FILLME=#\n",
    "#!EX ϵ = #=FILLME=#"
   ]
  },
  {
   "cell_type": "markdown",
   "metadata": {},
   "source": [
    "Plot the efficiency.  \n",
    "Use a [StatsBase histogram](http://juliastats.github.io/StatsBase.jl/latest/empirical/#Histograms-1) to visualize the distribution.  \n",
    "(Hint: The plot recipes can also be used for the `StatsBase` histograms) "
   ]
  },
  {
   "cell_type": "code",
   "execution_count": null,
   "metadata": {},
   "outputs": [],
   "source": [
    "hist_ϵ = fit(Histogram, ϵ, nbins=200)\n",
    "#!EX hist_ϵ = fit(#=FILLME=#)\n",
    "\n",
    "plot(hist_ϵ, 1, seriestype=:smallest_intervals, xlabel=\"\\$\\\\epsilon\\$\", ylabel=\"\\$p(\\\\epsilon)\\$\")"
   ]
  },
  {
   "cell_type": "markdown",
   "metadata": {},
   "source": [
    "Get unweighted samples for the signal rate and calculate the cross section distribution:"
   ]
  },
  {
   "cell_type": "code",
   "execution_count": null,
   "metadata": {},
   "outputs": [],
   "source": [
    "resampled_SB = bat_sample(samples_SB, nsamples).samples;\n",
    "λ_SB = valshape(prior_SB).(resampled_SB.params).λs\n",
    "σS = (λ_SB)./(ϵ*L);"
   ]
  },
  {
   "cell_type": "markdown",
   "metadata": {},
   "source": [
    "Plot the distribution of the signal cross section. (Hint: use again a histogram)  \n",
    "From the plot, determine the 95% upper limit on the cross section."
   ]
  },
  {
   "cell_type": "code",
   "execution_count": null,
   "metadata": {},
   "outputs": [],
   "source": [
    "hist_σ = fit(Histogram, σS, nbins=200)\n",
    "plot(hist_σ, 1, seriestype=:smallest_intervals, xlim=(0,400), xlabel=\"\\$\\\\sigma_s\\$\", ylabel=\"\\$p(\\\\sigma_s)\\$\")\n",
    "\n",
    "#!EX hist_σ = #=FILLME=#\n",
    "#!EX plot(hist_σ, #=FILLME=#)"
   ]
  },
  {
   "cell_type": "markdown",
   "metadata": {},
   "source": [
    "### Task 4 b) Binomial analysis of calibration measurement to determine efficiency \n",
    "We now want to perform the same analysis as in task 4 a) but for the case that the detector efficiency $\\epsilon$ is not yet known.   \n",
    "\n",
    " Instead, $\\epsilon$ is to be determined using a calibration measurement with a source for which the signal rate is known. Then it is possible to calculate the efficiency from the expected number of counts and the number of counts actually measured with the detector.   \n",
    "\n",
    "\n",
    "For our example, the number of expected events is assumed to be $N_\\text{expected} = 200$.  \n",
    "The detector measures only $N_\\text{measured} = 21$ events.  \n",
    "\n",
    "Task: Implement a binomial model using the `Binomial(n,p)` function of the [Distrtibutions.jl](https://juliastats.github.io/Distributions.jl/latest/univariate/) package and determine the distribution of the detector efficiency.  \n",
    "Afterwards, repeat the steps from 4 a) using the obtained distribution of the efficiency to calculate the signal cross section ."
   ]
  },
  {
   "cell_type": "markdown",
   "metadata": {},
   "source": [
    "Define the binomial likelihood:"
   ]
  },
  {
   "cell_type": "code",
   "execution_count": null,
   "metadata": {},
   "outputs": [],
   "source": [
    "n_expected = 200\n",
    "n_measured = 21\n",
    "\n",
    "likelihood_binomial = let n = n_expected, k = n_measured\n",
    "    params -> logpdf(Binomial(n, params.p), k)\n",
    "end\n",
    "#!EX likelihood_binomial = let #=FILLME=#\n",
    "#!EX     params -> #=FILLME=#\n",
    "#!EX end"
   ]
  },
  {
   "cell_type": "markdown",
   "metadata": {},
   "source": [
    "Define the prior (flat) for the efficiency and define the posterior:"
   ]
  },
  {
   "cell_type": "code",
   "execution_count": null,
   "metadata": {},
   "outputs": [],
   "source": [
    "prior_binomial = NamedTupleDist(\n",
    "    p = 0..1\n",
    ")\n",
    "#!EX prior_binomial = #=FILLME=#\n",
    "\n",
    "posterior_binomial = PosteriorDensity(likelihood_binomial, prior_binomial);\n",
    "#!EX posterior_binomial = #=FILLME=#"
   ]
  },
  {
   "cell_type": "markdown",
   "metadata": {},
   "source": [
    "Generate the samples:"
   ]
  },
  {
   "cell_type": "code",
   "execution_count": null,
   "metadata": {},
   "outputs": [],
   "source": [
    "samples_binomial, stats_binomial = bat_sample(posterior_binomial, (nsamples, nchains), algorithm);\n",
    "#!EX samples_binomial, stats_binomial = #=FILLME=#\n",
    "stats_binomial"
   ]
  },
  {
   "cell_type": "markdown",
   "metadata": {},
   "source": [
    "Plot the distribution of the efficiency:  \n",
    "(What do you observe when comparing to the efficiency used in 4 a) ?)"
   ]
  },
  {
   "cell_type": "code",
   "execution_count": null,
   "metadata": {},
   "outputs": [],
   "source": [
    "plot(samples_binomial, 1, xlabel=\"\\$\\\\epsilon\\$\",ylabel=\"\\$P(\\\\epsilon)\\$\")\n",
    "#!EX plot(samples_binomial, #=FILLME=#)"
   ]
  },
  {
   "cell_type": "markdown",
   "metadata": {},
   "source": [
    "Print some statistics of the samples:"
   ]
  },
  {
   "cell_type": "code",
   "execution_count": null,
   "metadata": {},
   "outputs": [],
   "source": [
    "println(\"Mode: $(stats_binomial.mode)\")\n",
    "println(\"Mean: $(stats_binomial.mean)\")\n",
    "println(\"Covariance: $(stats_binomial.cov)\")\n",
    "println(\"Standard Deviation: $(diag(sqrt(stats_binomial.cov[:, :])))\")"
   ]
  },
  {
   "cell_type": "raw",
   "metadata": {},
   "source": [
    "Calculate the cross section by sampling the same number of events from the efficiency and from the signal samples:  \n",
    "(Hint: proceed like in 4 a) for the samples of $\\lambda$_SB)"
   ]
  },
  {
   "cell_type": "code",
   "execution_count": null,
   "metadata": {},
   "outputs": [],
   "source": [
    "resampled_SB = bat_sample(samples_SB, 60000).samples\n",
    "resampled_binomial = bat_sample(samples_binomial, 60000).samples\n",
    "#!EX resampled_SB = #=FILLME=#\n",
    "#!EX resampled_binomial = #=FILLME=#\n",
    "length(resampled_SB), length(resampled_binomial)"
   ]
  },
  {
   "cell_type": "code",
   "execution_count": null,
   "metadata": {},
   "outputs": [],
   "source": [
    "λ_SB = valshape(prior_SB).(resampled_SB).params.λs\n",
    "ϵ   = valshape(prior_binomial).(resampled_binomial).params.p\n",
    "σS  = λ_SB./(ϵ*L);\n",
    "#!EX ϵ   = #=FILLME=#\n",
    "#!EX σS  = #=FILLME=#"
   ]
  },
  {
   "cell_type": "markdown",
   "metadata": {},
   "source": [
    "Use a `StatsBase`histogram to visualize the cross section distribution.  \n",
    "From the plot, determine the 95% upper limit on the cross section."
   ]
  },
  {
   "cell_type": "code",
   "execution_count": null,
   "metadata": {},
   "outputs": [],
   "source": [
    "hist_σ = fit(Histogram, σS, nbins=200)\n",
    "plot(hist_σ, 1, seriestype=:smallest_intervals, xlabel=\"\\$\\\\sigma_s\\$\", ylabel=\"\\$P(\\\\sigma_s)\\$\")"
   ]
  },
  {
   "cell_type": "markdown",
   "metadata": {},
   "source": [
    "Compare the distribution of the signal cross section to the distribution from 4 a)."
   ]
  },
  {
   "cell_type": "code",
   "execution_count": null,
   "metadata": {},
   "outputs": [],
   "source": []
  }
 ],
 "metadata": {
  "@webio": {
   "lastCommId": null,
   "lastKernelId": null
  },
  "hide_input": false,
  "kernelspec": {
   "display_name": "Julia 1.3.0-rc4",
   "language": "julia",
   "name": "julia-1.3"
  },
  "language_info": {
   "file_extension": ".jl",
   "mimetype": "application/julia",
   "name": "julia",
   "version": "1.3.0"
  },
  "toc": {
   "base_numbering": 1,
   "nav_menu": {},
   "number_sections": false,
   "sideBar": true,
   "skip_h1_title": false,
   "title_cell": "Table of Contents",
   "title_sidebar": "Contents",
   "toc_cell": false,
   "toc_position": {},
   "toc_section_display": true,
   "toc_window_display": false
  }
 },
 "nbformat": 4,
 "nbformat_minor": 2
}
