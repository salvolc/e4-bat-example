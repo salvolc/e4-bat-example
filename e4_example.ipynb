{
 "cells": [
  {
   "cell_type": "markdown",
   "metadata": {},
   "source": [
    "# BAT.jl Example"
   ]
  },
  {
   "cell_type": "markdown",
   "metadata": {},
   "source": [
    "The [the tutorial section](https://bat.github.io/BAT.jl/stable/tutorial/) of the BAT.jl documentation should prove helpful.\n",
    "\n",
    "The cell below installs all the neccessary packages for the example including BAT."
   ]
  },
  {
   "cell_type": "code",
   "execution_count": null,
   "metadata": {},
   "outputs": [],
   "source": [
    "using Pkg\n",
    "Pkg.add(\"BAT\")\n",
    "Pkg.add(\"Distributions\")\n",
    "Pkg.add(\"IntervalSets\")\n",
    "Pkg.add(\"ValueShapes\")\n",
    "Pkg.add(\"Plots\")\n",
    "Pkg.add(\"ArraysOfArrays\")\n",
    "Pkg.add(\"StatsBase\")\n",
    "Pkg.add(\"LinearAlgebra\")\n",
    "Pkg.add(\"Measurements\")"
   ]
  },
  {
   "cell_type": "code",
   "execution_count": null,
   "metadata": {},
   "outputs": [],
   "source": [
    "using BAT\n",
    "using Distributions \n",
    "using IntervalSets\n",
    "using ValueShapes\n",
    "using Plots\n",
    "using ArraysOfArrays\n",
    "using StatsBase \n",
    "using LinearAlgebra\n",
    "using Measurements\n",
    "pyplot()"
   ]
  },
  {
   "cell_type": "markdown",
   "metadata": {},
   "source": [
    "## Situation - Poisson Counting Example\n",
    "We want to determine the properties of a radioactive singal source in the presence of background from natural sources of radioactivity.\n",
    "We assume to have one signal source $S$ and only one source of background $B$."
   ]
  },
  {
   "cell_type": "markdown",
   "metadata": {},
   "source": [
    "## 1. Background only measurement\n",
    "+ $k_B=10$ counts with detector without source\n",
    "+ Determine event rate of natural radioactive background\n",
    "\n",
    "We define the log-likelihood function, using the function `logpdf()` and type `Poisson` provided by the package [Distributions.jl](https://juliastats.github.io/Distributions.jl/latest/univariate/):"
   ]
  },
  {
   "cell_type": "code",
   "execution_count": null,
   "metadata": {},
   "outputs": [],
   "source": [
    "# Number of observed background events\n",
    "kb = 10\n",
    "\n",
    "likelihood_B = let k = kb\n",
    "    params -> begin\n",
    "        return logpdf(Poisson(params.λb), k) # poisson log-likelihood\n",
    "    end\n",
    "end;"
   ]
  },
  {
   "cell_type": "markdown",
   "metadata": {},
   "source": [
    "Define the Prior with help of the `NamedTupleDist()` function. Use a flat prior between 0 and 30:\n",
    "\n",
    "Then use the likelihood and the prior to define the `PosteriorDensity()`:"
   ]
  },
  {
   "cell_type": "code",
   "execution_count": null,
   "metadata": {},
   "outputs": [],
   "source": [
    "prior_B = NamedTupleDist(\n",
    "    λb = 0..30 \n",
    ");\n",
    "posterior_B = PosteriorDensity(likelihood_B, prior_B);"
   ]
  },
  {
   "cell_type": "markdown",
   "metadata": {},
   "source": [
    "Define the settings for the sampling. Choose `MetropolisHastings()` as the algorithm and set the number of chains and samples:"
   ]
  },
  {
   "cell_type": "code",
   "execution_count": null,
   "metadata": {},
   "outputs": [],
   "source": [
    "algorithm = MetropolisHastings()\n",
    "nchains = 8\n",
    "nsamples = 10^5;"
   ]
  },
  {
   "cell_type": "markdown",
   "metadata": {},
   "source": [
    "Use the function `bat_sample` to sample the posterior using `nchains` MCMC chains, generating `nsamples` per chain:"
   ]
  },
  {
   "cell_type": "code",
   "execution_count": null,
   "metadata": {},
   "outputs": [],
   "source": [
    "samples_B, stats_B = bat_sample(posterior_B, (nsamples, nchains), algorithm)\n",
    "stats_B"
   ]
  },
  {
   "cell_type": "markdown",
   "metadata": {},
   "source": [
    "Take a look at the resulting disribution for the background rate using `plot()`:"
   ]
  },
  {
   "cell_type": "code",
   "execution_count": null,
   "metadata": {},
   "outputs": [],
   "source": [
    "plot(posterior_B, samples_B, :λb)\n",
    "plot!(prior_B, :λb, xlabel = \"\\$\\\\lambda_b\\$\", ylabel = \"\\$P(\\\\lambda_b)\\$\")"
   ]
  },
  {
   "cell_type": "markdown",
   "metadata": {},
   "source": [
    "Print some statistics of the samples:"
   ]
  },
  {
   "cell_type": "code",
   "execution_count": null,
   "metadata": {},
   "outputs": [],
   "source": [
    "println(\"Mode: $(stats_B.mode)\")\n",
    "println(\"Mean: $(stats_B.mean)\")\n",
    "println(\"Covariance: $(stats_B.cov)\")\n",
    "println(\"Standard Deviation: $(diag(sqrt(stats_B.cov[:, :])))\")"
   ]
  },
  {
   "cell_type": "markdown",
   "metadata": {},
   "source": [
    "## 2. Second background only measurement\n",
    "+ Second background measurement with $k_B=8$ counts.  \n",
    "+ Update estimation of background rate \n",
    "+ Similar procedure\n",
    "+ Use the posterior distribution of the previous background measurement as a prior\n"
   ]
  },
  {
   "cell_type": "markdown",
   "metadata": {},
   "source": [
    "Define a `StatsBase` histogram containing the previous posterior distribution.\n",
    "\n",
    "Define it as the prior using `BAT.HistogramAsUvDistribution(histogram)`.  "
   ]
  },
  {
   "cell_type": "code",
   "execution_count": null,
   "metadata": {},
   "outputs": [],
   "source": [
    "posterior_hist_B1 = fit(Histogram, flatview(samples_B.params)[1, :], FrequencyWeights(samples_B.weight), nbins = 400);\n",
    "\n",
    "prior_B2 = NamedTupleDist(\n",
    "    λb = BAT.HistogramAsUvDistribution(posterior_hist_B1)\n",
    ")"
   ]
  },
  {
   "cell_type": "markdown",
   "metadata": {},
   "source": [
    "Rest is analogous to the first example.\n",
    "\n",
    "Define the log-likelihood function and the posterior."
   ]
  },
  {
   "cell_type": "code",
   "execution_count": null,
   "metadata": {},
   "outputs": [],
   "source": [
    "kb2 = 8\n",
    "\n",
    "likelihood_B2 = let k = kb2\n",
    "    params -> logpdf(Poisson(params.λb), k)\n",
    "end;\n",
    "\n",
    "posterior_B2 = PosteriorDensity(likelihood_B2, prior_B2);"
   ]
  },
  {
   "cell_type": "markdown",
   "metadata": {},
   "source": [
    "Generate samples."
   ]
  },
  {
   "cell_type": "code",
   "execution_count": null,
   "metadata": {},
   "outputs": [],
   "source": [
    "samples_B2, stats_B2 = bat_sample(posterior_B2, (nsamples, nchains), algorithm)\n",
    "stats_B2"
   ]
  },
  {
   "cell_type": "markdown",
   "metadata": {},
   "source": [
    "Use the  `plot(samples)` and `plot!(prior)` functions to visualize the posterior of the first analysis and the updated posterior together:"
   ]
  },
  {
   "cell_type": "code",
   "execution_count": null,
   "metadata": {},
   "outputs": [],
   "source": [
    "plot(posterior_B2, samples_B2, :λb)\n",
    "plot!(prior_B2, :λb, linewidth=1.5, xlabel = \"\\$\\\\lambda_b\\$\", ylabel = \"\\$P(\\\\lambda_b)\\$\")"
   ]
  },
  {
   "cell_type": "markdown",
   "metadata": {},
   "source": [
    "Print some statistics of the samples:"
   ]
  },
  {
   "cell_type": "code",
   "execution_count": null,
   "metadata": {},
   "outputs": [],
   "source": [
    "println(\"Mode: $(stats_B2.mode)\")\n",
    "println(\"Mean: $(stats_B2.mean)\")\n",
    "println(\"Covariance: $(stats_B2.cov)\")\n",
    "println(\"Standard Deviation: $(diag(sqrt(stats_B2.cov[:, :])))\")"
   ]
  },
  {
   "cell_type": "markdown",
   "metadata": {},
   "source": [
    "## 3. Signal + Background\n",
    "+ $k_{S+B}=12$ counts using the radioactive source in the setup\n",
    "+ Determine signal rate $\\lambda_s$ using knowledge about background"
   ]
  },
  {
   "cell_type": "markdown",
   "metadata": {},
   "source": [
    "Define the likelihood for the signal + background model."
   ]
  },
  {
   "cell_type": "code",
   "execution_count": null,
   "metadata": {},
   "outputs": [],
   "source": [
    "# Number of observed events\n",
    "kSB = 12\n",
    "\n",
    "likelihood_SB = let k = kSB\n",
    "    params -> begin\n",
    "        return logpdf(Poisson(params.λb + params.λs), k)  # poisson log-likelihood for b+s\n",
    "    end\n",
    "end;"
   ]
  },
  {
   "cell_type": "markdown",
   "metadata": {},
   "source": [
    "Define the prior for both the signal and backgound parameters.  \n",
    "Signal prior is chosen flat while background prior uses the distribution from the earlier measurement."
   ]
  },
  {
   "cell_type": "code",
   "execution_count": null,
   "metadata": {},
   "outputs": [],
   "source": [
    "hist_B2 = fit(Histogram, flatview(samples_B2.params)[1, :], FrequencyWeights(samples_B2.weight), nbins = 400)\n",
    "\n",
    "B2 = BAT.HistogramAsUvDistribution(hist_B2);\n",
    "\n",
    "prior_SB = NamedTupleDist(\n",
    "    λb = B2,\n",
    "    λs = 0..30\n",
    ")\n",
    "\n",
    "posterior_SB = PosteriorDensity(likelihood_SB, prior_SB);"
   ]
  },
  {
   "cell_type": "markdown",
   "metadata": {},
   "source": [
    "Generate samples for the signal + background model:"
   ]
  },
  {
   "cell_type": "code",
   "execution_count": null,
   "metadata": {},
   "outputs": [],
   "source": [
    "samples_SB, stats_SB = bat_sample(posterior_SB, (nsamples, nchains), algorithm)\n",
    "stats_SB"
   ]
  },
  {
   "cell_type": "markdown",
   "metadata": {},
   "source": [
    "Plot an overview of the results for both prameters using `plot(samples)`.   "
   ]
  },
  {
   "cell_type": "code",
   "execution_count": null,
   "metadata": {},
   "outputs": [],
   "source": [
    "plot(samples_SB, param_labels=[\"\\\\lambda_b\",\"\\\\lambda_s\"])"
   ]
  },
  {
   "cell_type": "markdown",
   "metadata": {},
   "source": [
    "Print some statistics of the samples:"
   ]
  },
  {
   "cell_type": "code",
   "execution_count": null,
   "metadata": {},
   "outputs": [],
   "source": [
    "println(\"Mode: $(stats_SB.mode)\")\n",
    "println(\"Mean: $(stats_SB.mean)\")\n",
    "println(\"Covariance: $(stats_SB.cov)\")\n",
    "println(\"Standard Deviation: $(diag(sqrt(stats_SB.cov[:, :])))\")"
   ]
  },
  {
   "cell_type": "markdown",
   "metadata": {},
   "source": [
    "## 4. Error propagation"
   ]
  },
  {
   "cell_type": "markdown",
   "metadata": {},
   "source": [
    "+ Calculate cross section using \n",
    "### $\\frac{\\mathrm d N}{\\mathrm d t} = \\epsilon \\cdot σ \\cdot L$ \n",
    "with the Luminosity $L$ and the efficiency of the detector $\\epsilon$. \n",
    "+ Can be rewritten to \n",
    "### $σ_S = \\frac{λ_s}{\\epsilon \\cdot L}$  .\n",
    "+ For this axample we assume a luminosity $L = 1.1$  (neglecting units).\n",
    "+ Result either a measurement or an upper limit on the signal cross section.\n",
    "\n",
    "+ Assume a known efficiency of $\\epsilon = 0.1 \\pm 0.02$"
   ]
  },
  {
   "cell_type": "markdown",
   "metadata": {},
   "source": [
    "Define the luminosity and the efficiency:"
   ]
  },
  {
   "cell_type": "code",
   "execution_count": null,
   "metadata": {},
   "outputs": [],
   "source": [
    "L = 1.1\n",
    "ϵ = rand(Normal(0.1, 0.02), nsamples);"
   ]
  },
  {
   "cell_type": "markdown",
   "metadata": {},
   "source": [
    "Plot the efficiency.  "
   ]
  },
  {
   "cell_type": "code",
   "execution_count": null,
   "metadata": {},
   "outputs": [],
   "source": [
    "hist_ϵ = fit(Histogram, ϵ, nbins=200)\n",
    "plot(hist_ϵ, 1, seriestype=:smallest_intervals, xlabel=\"\\$\\\\epsilon\\$\", ylabel=\"\\$p(\\\\epsilon)\\$\")"
   ]
  },
  {
   "cell_type": "markdown",
   "metadata": {},
   "source": [
    "Get unweighted samples for the signal rate and calculate the cross section distribution:"
   ]
  },
  {
   "cell_type": "code",
   "execution_count": null,
   "metadata": {},
   "outputs": [],
   "source": [
    "resampled_SB = bat_sample(samples_SB, nsamples).samples;\n",
    "λ_SB = valshape(prior_SB).(resampled_SB.params).λs\n",
    "σS = (λ_SB)./(ϵ*L);"
   ]
  },
  {
   "cell_type": "markdown",
   "metadata": {},
   "source": [
    "Comparing the error propation using the `Measurements` package to the sample"
   ]
  },
  {
   "cell_type": "code",
   "execution_count": null,
   "metadata": {},
   "outputs": [],
   "source": [
    "λ_SB_M = measurement(mean(λ_SB), sqrt(var(λ_SB)))\n",
    "ϵ_M = measurement(0.1, 0.02)\n",
    "println(string(\"Using gaussian error propation: \",λ_SB_M/(ϵ_M*L)))\n",
    "\n",
    "σS_M = measurement(mean(σS), sqrt(var(σS)))\n",
    "println(string(\"Propagating uncertainty with sampling: \",σS_M))"
   ]
  },
  {
   "cell_type": "markdown",
   "metadata": {},
   "source": [
    "Using sampling we can plot the distribution of the signal cross section."
   ]
  },
  {
   "cell_type": "code",
   "execution_count": null,
   "metadata": {},
   "outputs": [],
   "source": [
    "hist_σ = fit(Histogram, σS, nbins=300)\n",
    "plot(hist_σ, 1, seriestype=:smallest_intervals, xlim=(0,400), xlabel=\"\\$\\\\sigma_s\\$\", ylabel=\"\\$p(\\\\sigma_s)\\$\")"
   ]
  },
  {
   "cell_type": "code",
   "execution_count": null,
   "metadata": {},
   "outputs": [],
   "source": []
  }
 ],
 "metadata": {
  "@webio": {
   "lastCommId": null,
   "lastKernelId": null
  },
  "hide_input": false,
  "kernelspec": {
   "display_name": "Julia 1.4.2",
   "language": "julia",
   "name": "julia-1.4"
  },
  "language_info": {
   "file_extension": ".jl",
   "mimetype": "application/julia",
   "name": "julia",
   "version": "1.4.2"
  },
  "toc": {
   "base_numbering": 1,
   "nav_menu": {},
   "number_sections": false,
   "sideBar": true,
   "skip_h1_title": false,
   "title_cell": "Table of Contents",
   "title_sidebar": "Contents",
   "toc_cell": false,
   "toc_position": {},
   "toc_section_display": true,
   "toc_window_display": false
  }
 },
 "nbformat": 4,
 "nbformat_minor": 4
}
